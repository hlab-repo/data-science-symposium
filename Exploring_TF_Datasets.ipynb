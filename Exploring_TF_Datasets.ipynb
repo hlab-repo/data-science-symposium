{
  "nbformat": 4,
  "nbformat_minor": 0,
  "metadata": {
    "colab": {
      "name": "Exploring TF Datasets.ipynb",
      "provenance": [],
      "collapsed_sections": []
    },
    "kernelspec": {
      "name": "python3",
      "display_name": "Python 3"
    }
  },
  "cells": [
    {
      "cell_type": "markdown",
      "metadata": {
        "id": "qVvt73ckG60P",
        "colab_type": "text"
      },
      "source": [
        "# Exploring TensorFlow Datasets We Will Use with Torch\n",
        "This notebook illustrates how to leverage the datasets built by TensorFlow using the code we have in the GitHub repository."
      ]
    },
    {
      "cell_type": "markdown",
      "metadata": {
        "id": "EsBVPSMfHB-H",
        "colab_type": "text"
      },
      "source": [
        "## Set-up\n",
        "The utility and helper code we have created lives here:\n",
        "\n",
        "https://github.com/hlab-repo/data_science_symposium.git"
      ]
    },
    {
      "cell_type": "code",
      "metadata": {
        "id": "0rMrlwSxFVs3",
        "colab_type": "code",
        "colab": {}
      },
      "source": [
        "!git clone https://github.com/hlab-repo/data_science_symposium.git"
      ],
      "execution_count": null,
      "outputs": []
    },
    {
      "cell_type": "code",
      "metadata": {
        "id": "nZD5ZnKUFffb",
        "colab_type": "code",
        "colab": {}
      },
      "source": [
        "from pprint import pprint\n",
        "\n",
        "import numpy as np\n",
        "import torch\n",
        "from torch.utils.data import DataLoader\n",
        "\n",
        "from data_science_symposium.datasets import BaseTextIterDataset"
      ],
      "execution_count": 2,
      "outputs": []
    },
    {
      "cell_type": "markdown",
      "metadata": {
        "id": "irgmtzizHOBX",
        "colab_type": "text"
      },
      "source": [
        "## Exploring the base dataset\n",
        "We can load any text dataset from TensorFlow's catalog with the base `BaseTextIterDataset`. For this example, let's download the SNLI dataset and see what it looks like. You can find the relevant information required in the API call below from the datasets url (peruse the other datasets available in the left hand tab as well!):\n",
        "\n",
        "https://www.tensorflow.org/datasets/catalog/snli\n",
        "\n",
        "We need to indicate a few items in order for our `BaseTextIterDataset` instance to know which dataset to download and use. This includes the `tf_dataset` name, the epoch size (given that this is a large dataset), and which `split_` to use (test or train)."
      ]
    },
    {
      "cell_type": "code",
      "metadata": {
        "id": "fX0JbgPIFreC",
        "colab_type": "code",
        "colab": {}
      },
      "source": [
        "dataset = BaseTextIterDataset(\n",
        "    tf_dataset='snli', # 570k Eng. sent. pairs with labels: entailment, contradiction, and neutral\n",
        "    epoch_size=16,     # using a very small epoch size for illustration; 10k+ more typical\n",
        "    split_='test',     # load the smaller dataset for illustration\n",
        "    )"
      ],
      "execution_count": null,
      "outputs": []
    },
    {
      "cell_type": "code",
      "metadata": {
        "id": "mPCY94sfg8Q8",
        "colab_type": "code",
        "colab": {}
      },
      "source": [
        "dataloader = DataLoader(dataset, batch_size=2) # each pass through dataloader should have 2 batches"
      ],
      "execution_count": 4,
      "outputs": []
    },
    {
      "cell_type": "code",
      "metadata": {
        "id": "FUacwEDzIcfn",
        "colab_type": "code",
        "colab": {
          "base_uri": "https://localhost:8080/",
          "height": 864
        },
        "outputId": "f1d59180-e19c-43af-b006-1c0ffba2a383"
      },
      "source": [
        "for batch in dataloader:\n",
        "    pprint(batch)"
      ],
      "execution_count": 5,
      "outputs": [
        {
          "output_type": "stream",
          "text": [
            "{'hypothesis': [('A girl is entertaining on stage',),\n",
            "                ('A group of people posing in front of a body of water.',),\n",
            "                (\"The group of people aren't inide of the building.\",),\n",
            "                ('The people are taking a carriage ride.',),\n",
            "                ('Two girls are getting ready to ride horses.',),\n",
            "                ('Two youths were pushing each other.',),\n",
            "                ('A child takes a nap on a couch.',),\n",
            "                ('A person is consuming food.',),\n",
            "                ('A boy in light green pajamas plays.',),\n",
            "                ('The boy is wearing a backpack.',),\n",
            "                ('The man enjoys dogs.',),\n",
            "                ('A man is pointing into the ear and wearing a striped '\n",
            "                 'shirt.',),\n",
            "                ('a woman and a baby watching',),\n",
            "                ('There are women outside in this picture',),\n",
            "                ('The man is walking his dog.',),\n",
            "                ('The man in the leather jacket is walking to his '\n",
            "                 'motorcycle.',)],\n",
            " 'label': tensor([[0, 0, 0, 0, 1, 2, 2, 0, 1, 0, 1, 0, 0, 0, 2, 1]]),\n",
            " 'premise': [('A girl in a blue leotard hula hoops on a stage with balloon '\n",
            "              'shapes in the background.',),\n",
            "             ('A group of people taking pictures on a walkway in front of a '\n",
            "              'large body of water.',),\n",
            "             ('Many people standing outside of a place talking to each other '\n",
            "              'in front of a building that has a sign that says \"HI-POINTE.\"',),\n",
            "             ('Three people are riding a carriage pulled by four horses.',),\n",
            "             ('Two girls feeding a horse an apple.',),\n",
            "             ('2 kids who look related are hanging out with 1 of them looking '\n",
            "              'very emotional and hugging the other.',),\n",
            "             ('A young blond child wearing a black shirt and white shorts '\n",
            "              'looks at the sky with a bridge and water in the background.',),\n",
            "             ('The man white purple and white polka-dotted shirts is eating '\n",
            "              'and looking to his right while the woman behind him has a '\n",
            "              'confused look on her face.',),\n",
            "             ('Boy in green pajamas play with his toy while his mother sits on '\n",
            "              'the couch and watches him.',),\n",
            "             ('Boy in backpack crossing the street, Other people, all Asian, '\n",
            "              'are all in crosswalk walking towards the boy.',),\n",
            "             ('A man in a grassy field throws a stick for a group of three '\n",
            "              'brown dogs.',),\n",
            "             ('A man pointing into the ear wearing a striped shirt in a small '\n",
            "              'boat filled with many people.',),\n",
            "             ('A woman and a baby are watching a boy play.',),\n",
            "             ('Two women are hugging on a path through a grassy area with a '\n",
            "              'cow visible past them.',),\n",
            "             ('The man wearing blue jean shorts is grilling.',),\n",
            "             ('A man in a leather jacket and glasses walks across an '\n",
            "              'intersection while a man in a gray sweatshirt and white hat '\n",
            "              'looks on.',)]}\n"
          ],
          "name": "stdout"
        }
      ]
    }
  ]
}